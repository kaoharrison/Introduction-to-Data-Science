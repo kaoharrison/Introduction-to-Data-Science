{
  "nbformat": 4,
  "nbformat_minor": 0,
  "metadata": {
    "colab": {
      "name": "week10 A108260061 高暐軒",
      "provenance": [],
      "include_colab_link": true
    },
    "kernelspec": {
      "name": "python3",
      "display_name": "Python 3"
    }
  },
  "cells": [
    {
      "cell_type": "markdown",
      "metadata": {
        "id": "view-in-github",
        "colab_type": "text"
      },
      "source": [
        "<a href=\"https://colab.research.google.com/github/kaoharrison/Introduction-to-Data-Science/blob/master/week10_A108260061_%E9%AB%98%E6%9A%90%E8%BB%92.ipynb\" target=\"_parent\"><img src=\"https://colab.research.google.com/assets/colab-badge.svg\" alt=\"Open In Colab\"/></a>"
      ]
    },
    {
      "cell_type": "code",
      "metadata": {
        "id": "xwZtFxxYT_zW",
        "colab_type": "code",
        "colab": {
          "base_uri": "https://localhost:8080/",
          "height": 102
        },
        "outputId": "772476bc-18f9-41d8-8df2-edad95c853e8"
      },
      "source": [
        "print(\"You are on a deserted island in a 2D world.\")\n",
        "print(\"Try to survive until rescue arrives!\")\n",
        "print(\"Available commands are in CAPITAL letters.\")\n",
        "print(\"Any other command exits the program\")\n",
        "print(\"First LOOK around...\") "
      ],
      "execution_count": 1,
      "outputs": [
        {
          "output_type": "stream",
          "text": [
            "You are on a deserted island in a 2D world.\n",
            "Try to survive until rescue arrives!\n",
            "Available commands are in CAPITAL letters.\n",
            "Any other command exits the program\n",
            "First LOOK around...\n"
          ],
          "name": "stdout"
        }
      ]
    },
    {
      "cell_type": "code",
      "metadata": {
        "id": "EtDNfD31aZ1_",
        "colab_type": "code",
        "colab": {
          "base_uri": "https://localhost:8080/",
          "height": 272
        },
        "outputId": "09176b9c-8fb8-41e5-c061-08606ca4f6d7"
      },
      "source": [
        "do = input(\":: \")\n",
        "if do == \"LOOK\": \n",
        "    print(\"You are stuck in a sand ditch.\") \n",
        "    print(\"Crawl out LEFT or RIGHT.\") \n",
        "\n",
        "    do = input(\":: \")\n",
        "\n",
        "    if do ==\"LEFT\": \n",
        "        print(\"You see a STARFISH and a CRAB on the sand.\")\n",
        "        print(\"And you're hungry! Which do you eat?\")\n",
        "\n",
        "        do = input(\"::\")\n",
        "        if do == \"STARFISH\":\n",
        "            print(\"Oh no! You immediately don't feel well.\")\n",
        "            print(\"You do not survive :(\")\n",
        "        elif do == \"CRAB\": \n",
        "            print(\"Raw crab should be fine, right? YES or NO.\")\n",
        "\n",
        "            do= input(\":: \")\n",
        "            if do == \"YES\":    \n",
        "                print(\"Ok, You eat it raw. Fingers crossed.\")\n",
        "                print(\"Food in your belly helps you see a TREE.\")\n",
        "\n",
        "                do = input(\":: \")\n",
        "                if do == \"TREE\":\n",
        "                    print(\"It's a coconut tree! And you're thirsty!\")\n",
        "                    print(\"Do you drink the coconut water? YES or NO.\")\n",
        "\n",
        "                    do = input(\":: \")\n",
        "                    if do == \"TREE\":\n",
        "                        print(\"It's a coconut tree! And you're thirsty!\") \n",
        "                        print(\"Do you drink the coconut water? YES or NO.\")\n",
        "\n",
        "                        do = input(\":: \")\n",
        "                        if do == \"YES\":\n",
        "                            print(\"Oh boy. Coconut water and raw crab don't mix.\")\n",
        "                            print(\"You do not survive :(\") \n",
        "                        elif do == \"NO\":\n",
        "                            print(\"Good choice.\")\n",
        "                            print(\"Look! It's a rescue plane! You made it! \\o/\") \n",
        "\n",
        "        elif do == \"NO\":\n",
        "            print(\"Well, there's nothing else left to eat.\")\n",
        "            print(\"You do not survive :(\") \n",
        "\n",
        "    elif do == \"RIGHT\":\n",
        "            print(\"No can do. That side is very slippery.\") \n",
        "            print(\"You fall very far into some weird cavern.\") \n",
        "            print(\"You do not survive :(\") \n",
        "else:\n",
        "     print(\"You can only do actions shown in capital letters.\")\n",
        "     print(\"Try again!\") \n",
        "\n",
        "\n",
        "\n",
        "\n",
        "\n",
        "\n"
      ],
      "execution_count": 7,
      "outputs": [
        {
          "output_type": "stream",
          "text": [
            ":: LOOK\n",
            "You are stuck in a sand ditch.\n",
            "Crawl out LEFT or RIGHT.\n",
            ":: LEFT\n",
            "You see a STARFISH and a CRAB on the sand.\n",
            "And you're hungry! Which do you eat?\n",
            "::CRAB\n",
            "Raw crab should be fine, right? YES or NO.\n",
            ":: YES\n",
            "Ok, You eat it raw. Fingers crossed.\n",
            "Food in your belly helps you see a TREE.\n",
            ":: TREE\n",
            "It's a coconut tree! And you're thirsty!\n",
            "Do you drink the coconut water? YES or NO.\n",
            ":: YES\n"
          ],
          "name": "stdout"
        }
      ]
    },
    {
      "cell_type": "code",
      "metadata": {
        "id": "fghGPR1TcmB4",
        "colab_type": "code",
        "colab": {
          "base_uri": "https://localhost:8080/",
          "height": 68
        },
        "outputId": "a2b94fa9-237f-4418-ffe3-12f8e5ba439a"
      },
      "source": [
        "import random\n",
        "\n",
        "my_choice = int(input(\"請出拳 [0] 剪⼑ [1] ⽯頭 [2] 布\"))\n",
        "print(\"我出拳為\", my_choice)\n",
        "\n",
        "com_choice = random.randint(0, 2)\n",
        "print(\"電腦出拳為\", com_choice)"
      ],
      "execution_count": 12,
      "outputs": [
        {
          "output_type": "stream",
          "text": [
            "請出拳 [0] 剪⼑ [1] ⽯頭 [2] 布1\n",
            "我出拳為 1\n",
            "電腦出拳為 2\n"
          ],
          "name": "stdout"
        }
      ]
    },
    {
      "cell_type": "code",
      "metadata": {
        "id": "cCFkjTTcjMaC",
        "colab_type": "code",
        "colab": {
          "base_uri": "https://localhost:8080/",
          "height": 34
        },
        "outputId": "1da75b0b-89dc-42f3-bda1-c3fe84ebb821"
      },
      "source": [
        "if my_choice == (com_choice + 1) % 3:\n",
        "    print(\"我贏了\")\n",
        "elif my_choice == com_choice:\n",
        "    print(\"平⼿\")\n",
        "else:\n",
        "    print(\"我輸了\")"
      ],
      "execution_count": 13,
      "outputs": [
        {
          "output_type": "stream",
          "text": [
            "我輸了\n"
          ],
          "name": "stdout"
        }
      ]
    },
    {
      "cell_type": "code",
      "metadata": {
        "id": "_qWVGKSZjcBB",
        "colab_type": "code",
        "colab": {
          "base_uri": "https://localhost:8080/",
          "height": 68
        },
        "outputId": "ae388e17-c4b2-45be-e95b-a2c01db345ca"
      },
      "source": [
        "import random\n",
        "\n",
        "my_choice = int(input(\"請出拳 [0] 蟲 [1] 雞 [2] 老虎 [3] 棒⼦\"))\n",
        "print(\"你出的拳:\", my_choice)\n",
        "\n",
        "com_choice = random.randint(0, 3)\n",
        "print(\"電腦出拳為\", com_choice)"
      ],
      "execution_count": 14,
      "outputs": [
        {
          "output_type": "stream",
          "text": [
            "請出拳 [0] 蟲 [1] 雞 [2] 老虎 [3] 棒⼦1\n",
            "你出的拳: 1\n",
            "電腦出拳為 2\n"
          ],
          "name": "stdout"
        }
      ]
    },
    {
      "cell_type": "code",
      "metadata": {
        "id": "B8PXXMILk6th",
        "colab_type": "code",
        "colab": {
          "base_uri": "https://localhost:8080/",
          "height": 34
        },
        "outputId": "f5207c32-7647-4b12-bc7e-49bee56d3b1b"
      },
      "source": [
        "if my_choice == (com_choice + 1) % 4:\n",
        "    print(\"我贏了\")\n",
        "elif com_choice == (my_choice + 1) % 4:\n",
        "    print(\"電腦贏了\")\n",
        "else:\n",
        "    print(\"平⼿\")"
      ],
      "execution_count": 15,
      "outputs": [
        {
          "output_type": "stream",
          "text": [
            "電腦贏了\n"
          ],
          "name": "stdout"
        }
      ]
    },
    {
      "cell_type": "code",
      "metadata": {
        "id": "a3B6XHMTl1gy",
        "colab_type": "code",
        "colab": {}
      },
      "source": [
        "do = input(\":: \")\n",
        "if do ==\"int < 0.8\":\n",
        "    print(近視)  "
      ],
      "execution_count": 0,
      "outputs": []
    },
    {
      "cell_type": "code",
      "metadata": {
        "id": "bEDG-2p3m3c_",
        "colab_type": "code",
        "colab": {}
      },
      "source": [
        ""
      ],
      "execution_count": 0,
      "outputs": []
    }
  ]
}