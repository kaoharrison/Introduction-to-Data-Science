{
  "nbformat": 4,
  "nbformat_minor": 0,
  "metadata": {
    "colab": {
      "name": "week6 A108260061 高暐軒",
      "provenance": [],
      "include_colab_link": true
    },
    "kernelspec": {
      "name": "python3",
      "display_name": "Python 3"
    }
  },
  "cells": [
    {
      "cell_type": "markdown",
      "metadata": {
        "id": "view-in-github",
        "colab_type": "text"
      },
      "source": [
        "<a href=\"https://colab.research.google.com/github/kaoharrison/Introduction-to-Data-Science/blob/master/week6_A108260061_%E9%AB%98%E6%9A%90%E8%BB%92.ipynb\" target=\"_parent\"><img src=\"https://colab.research.google.com/assets/colab-badge.svg\" alt=\"Open In Colab\"/></a>"
      ]
    },
    {
      "cell_type": "code",
      "metadata": {
        "id": "VObF_gknId6N",
        "colab_type": "code",
        "outputId": "40d90db1-8d71-4473-c5c0-a7ed6e0ae183",
        "colab": {
          "base_uri": "https://localhost:8080/",
          "height": 51
        }
      },
      "source": [
        "第一次期中考成績=75\n",
        "第二次期中考成績=80\n",
        "期末考成績=65\n",
        "\n",
        "print(第一次期中考成績 + 第二次期中考成績 + 期末考成績)\n",
        "\n",
        "print((第一次期中考成績 + 第二次期中考成績 + 期末考成績)/3)\n"
      ],
      "execution_count": 0,
      "outputs": [
        {
          "output_type": "stream",
          "text": [
            "220\n",
            "73.33333333333333\n"
          ],
          "name": "stdout"
        }
      ]
    },
    {
      "cell_type": "code",
      "metadata": {
        "id": "Z5FijrQ9YgDP",
        "colab_type": "code",
        "outputId": "b7f301c6-1cf6-420a-8f04-3df1af998244",
        "colab": {
          "base_uri": "https://localhost:8080/",
          "height": 68
        }
      },
      "source": [
        "y=int(input('請輸入幾尺'))\n",
        "t=int(input('請輸入幾吋'))\n",
        "answer=(y*12+t)*2.54\n",
        "\n",
        "print(answer)"
      ],
      "execution_count": 0,
      "outputs": [
        {
          "output_type": "stream",
          "text": [
            "請輸入幾尺5\n",
            "請輸入幾吋8\n",
            "172.72\n"
          ],
          "name": "stdout"
        }
      ]
    },
    {
      "cell_type": "code",
      "metadata": {
        "id": "ZW7E6cgVdMy-",
        "colab_type": "code",
        "outputId": "aa07080d-b99c-43b0-924a-c28971d65837",
        "colab": {
          "base_uri": "https://localhost:8080/",
          "height": 51
        }
      },
      "source": [
        "x=19\n",
        "y=5\n",
        "a=x/y\n",
        "b=x%y\n",
        "print(a)\n",
        "print(b)"
      ],
      "execution_count": 1,
      "outputs": [
        {
          "output_type": "stream",
          "text": [
            "3.8\n",
            "4\n"
          ],
          "name": "stdout"
        }
      ]
    },
    {
      "cell_type": "code",
      "metadata": {
        "id": "xTRIVwTQdbkn",
        "colab_type": "code",
        "outputId": "07f3e15c-d299-452b-a340-c5b802cf8083",
        "colab": {
          "base_uri": "https://localhost:8080/",
          "height": 68
        }
      },
      "source": [
        "a=30/12\n",
        "b=20*30\n",
        "c=((30-30%12)/12*200)+((30%12)*20)\n",
        "print(a)\n",
        "print(b)\n",
        "print(c)"
      ],
      "execution_count": 2,
      "outputs": [
        {
          "output_type": "stream",
          "text": [
            "2.5\n",
            "600\n",
            "520.0\n"
          ],
          "name": "stdout"
        }
      ]
    },
    {
      "cell_type": "code",
      "metadata": {
        "id": "1QXEmj9oVVUW",
        "colab_type": "code",
        "colab": {
          "base_uri": "https://localhost:8080/",
          "height": 153
        },
        "outputId": "5cabf6b0-9ddb-4b56-f131-eb8ee23fbf38"
      },
      "source": [
        "KB=2**10 \n",
        "MB=2**20\n",
        "GB=2**30\n",
        "TB=2**40\n",
        "PB=2**50\n",
        "EB=2**60\n",
        "ZB=2**70\n",
        "YB=2**80\n",
        "print(KB)\n",
        "print(MB)\n",
        "print(GB)\n",
        "print(TB)\n",
        "print(PB)\n",
        "print(EB)\n",
        "print(ZB)\n",
        "print(YB)"
      ],
      "execution_count": 3,
      "outputs": [
        {
          "output_type": "stream",
          "text": [
            "1024\n",
            "1048576\n",
            "1073741824\n",
            "1099511627776\n",
            "1125899906842624\n",
            "1152921504606846976\n",
            "1180591620717411303424\n",
            "1208925819614629174706176\n"
          ],
          "name": "stdout"
        }
      ]
    },
    {
      "cell_type": "code",
      "metadata": {
        "id": "hV5iNsAcVibO",
        "colab_type": "code",
        "colab": {}
      },
      "source": [
        ""
      ],
      "execution_count": 0,
      "outputs": []
    }
  ]
}