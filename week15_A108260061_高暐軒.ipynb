{
  "nbformat": 4,
  "nbformat_minor": 0,
  "metadata": {
    "colab": {
      "name": "week15 A108260061 高暐軒 ",
      "provenance": [],
      "include_colab_link": true
    },
    "kernelspec": {
      "name": "python3",
      "display_name": "Python 3"
    }
  },
  "cells": [
    {
      "cell_type": "markdown",
      "metadata": {
        "id": "view-in-github",
        "colab_type": "text"
      },
      "source": [
        "<a href=\"https://colab.research.google.com/github/kaoharrison/Introduction-to-Data-Science/blob/master/week15_A108260061_%E9%AB%98%E6%9A%90%E8%BB%92.ipynb\" target=\"_parent\"><img src=\"https://colab.research.google.com/assets/colab-badge.svg\" alt=\"Open In Colab\"/></a>"
      ]
    },
    {
      "cell_type": "code",
      "metadata": {
        "id": "vxTVDnXGqQvE",
        "colab_type": "code",
        "colab": {
          "base_uri": "https://localhost:8080/",
          "height": 153
        },
        "outputId": "dd375244-de12-44fc-fc65-33ab3bbc6480"
      },
      "source": [
        "n=1 \n",
        "while n<5:\n",
        "    print(\"變數n是\",n)\n",
        "    n=n+1\n",
        "\n",
        "    print(\"finished\")"
      ],
      "execution_count": 1,
      "outputs": [
        {
          "output_type": "stream",
          "text": [
            "變數n是 1\n",
            "finished\n",
            "變數n是 2\n",
            "finished\n",
            "變數n是 3\n",
            "finished\n",
            "變數n是 4\n",
            "finished\n"
          ],
          "name": "stdout"
        }
      ]
    },
    {
      "cell_type": "code",
      "metadata": {
        "id": "SzL6vw3yrQks",
        "colab_type": "code",
        "colab": {}
      },
      "source": [
        "n= 0\n",
        "while n <1000:\n",
        "    print(\"hello\")\n",
        "    n=n+1\n"
      ],
      "execution_count": 0,
      "outputs": []
    },
    {
      "cell_type": "code",
      "metadata": {
        "id": "LnQdteMYtvpD",
        "colab_type": "code",
        "colab": {
          "base_uri": "https://localhost:8080/",
          "height": 187
        },
        "outputId": "0ff17060-6a8a-44b3-8939-511aac6e9bea"
      },
      "source": [
        "times= 0\n",
        "while times < 10:\n",
        "    times = times + 1\n",
        "    print(\"這是第\", times,\"次的hello\")"
      ],
      "execution_count": 7,
      "outputs": [
        {
          "output_type": "stream",
          "text": [
            "這是第 1 次的hello\n",
            "這是第 2 次的hello\n",
            "這是第 3 次的hello\n",
            "這是第 4 次的hello\n",
            "這是第 5 次的hello\n",
            "這是第 6 次的hello\n",
            "這是第 7 次的hello\n",
            "這是第 8 次的hello\n",
            "這是第 9 次的hello\n",
            "這是第 10 次的hello\n"
          ],
          "name": "stdout"
        }
      ]
    },
    {
      "cell_type": "code",
      "metadata": {
        "id": "T9VT7PJQuiBf",
        "colab_type": "code",
        "colab": {
          "base_uri": "https://localhost:8080/",
          "height": 34
        },
        "outputId": "890fc269-9626-4341-b2a6-de3880b5bb2d"
      },
      "source": [
        "x = 0\n",
        "result = 0\n",
        "while x < 10:\n",
        "    x = x +1\n",
        "    result = result + x\n",
        "print(\"答案是:\", result)    "
      ],
      "execution_count": 13,
      "outputs": [
        {
          "output_type": "stream",
          "text": [
            "答案是: 55\n"
          ],
          "name": "stdout"
        }
      ]
    },
    {
      "cell_type": "code",
      "metadata": {
        "id": "JU0oTF76xWt6",
        "colab_type": "code",
        "colab": {
          "base_uri": "https://localhost:8080/",
          "height": 34
        },
        "outputId": "a9466f11-d4ac-4727-a97b-fc059011e9af"
      },
      "source": [
        "x = 0\n",
        "result = 0\n",
        "while result <= 50:\n",
        "    x = x +1\n",
        "    result = result + x\n",
        "print(\"最後加的X是\", x)   "
      ],
      "execution_count": 16,
      "outputs": [
        {
          "output_type": "stream",
          "text": [
            "最後加的X是 10\n"
          ],
          "name": "stdout"
        }
      ]
    },
    {
      "cell_type": "code",
      "metadata": {
        "id": "MngSO13ZyGcm",
        "colab_type": "code",
        "colab": {
          "base_uri": "https://localhost:8080/",
          "height": 34
        },
        "outputId": "456df22f-46a8-4121-e98b-eda0feab8b38"
      },
      "source": [
        "sum = 0 # 初始條件\n",
        "x = 1\n",
        "while x < 11: # 判斷條件\n",
        "    sum = sum + x # 更新條件\n",
        "    x = x + 2\n",
        "print(\"1 + 3 + 5 + 7 + 9 = \", sum) # 最後結果"
      ],
      "execution_count": 18,
      "outputs": [
        {
          "output_type": "stream",
          "text": [
            "1 + 3 + 5 + 7 + 9 =  25\n"
          ],
          "name": "stdout"
        }
      ]
    },
    {
      "cell_type": "code",
      "metadata": {
        "id": "xQaFCq2jyleE",
        "colab_type": "code",
        "colab": {
          "base_uri": "https://localhost:8080/",
          "height": 34
        },
        "outputId": "cda91c66-ba96-407e-a49a-866f6370e32b"
      },
      "source": [
        "sum = 0\n",
        "i = 0\n",
        "while sum <= 1000:\n",
        "    i += 1\n",
        "    sum += i*i\n",
        "print('最小的n值為', i)"
      ],
      "execution_count": 23,
      "outputs": [
        {
          "output_type": "stream",
          "text": [
            "最小的n值為 14\n"
          ],
          "name": "stdout"
        }
      ]
    },
    {
      "cell_type": "code",
      "metadata": {
        "id": "OGMZo2-10SQf",
        "colab_type": "code",
        "colab": {}
      },
      "source": [
        ""
      ],
      "execution_count": 0,
      "outputs": []
    }
  ]
}