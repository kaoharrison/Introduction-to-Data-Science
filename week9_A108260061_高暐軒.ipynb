{
  "nbformat": 4,
  "nbformat_minor": 0,
  "metadata": {
    "colab": {
      "name": "week9 A108260061 高暐軒",
      "provenance": [],
      "include_colab_link": true
    },
    "kernelspec": {
      "name": "python3",
      "display_name": "Python 3"
    }
  },
  "cells": [
    {
      "cell_type": "markdown",
      "metadata": {
        "id": "view-in-github",
        "colab_type": "text"
      },
      "source": [
        "<a href=\"https://colab.research.google.com/github/kaoharrison/Introduction-to-Data-Science/blob/master/week9_A108260061_%E9%AB%98%E6%9A%90%E8%BB%92.ipynb\" target=\"_parent\"><img src=\"https://colab.research.google.com/assets/colab-badge.svg\" alt=\"Open In Colab\"/></a>"
      ]
    },
    {
      "cell_type": "code",
      "metadata": {
        "id": "wKaNfXsDeH5j",
        "colab_type": "code",
        "colab": {
          "base_uri": "https://localhost:8080/",
          "height": 51
        },
        "outputId": "b721039f-13e9-43cf-bd56-77092b5931c4"
      },
      "source": [
        "score = int(input('請輸入一個成績?'))\n",
        "if score >= 60:\n",
        "    print('很好,請繼續保持下去')"
      ],
      "execution_count": 5,
      "outputs": [
        {
          "output_type": "stream",
          "text": [
            "請輸入一個成績?88\n",
            "很好,請繼續保持下去\n"
          ],
          "name": "stdout"
        }
      ]
    },
    {
      "cell_type": "code",
      "metadata": {
        "id": "9iZ3WJKvedtS",
        "colab_type": "code",
        "colab": {
          "base_uri": "https://localhost:8080/",
          "height": 51
        },
        "outputId": "a82ac0aa-38be-49c3-9109-ace0e0da157e"
      },
      "source": [
        "score = int(input('請輸入一個成績?'))\n",
        "if score >= 60:\n",
        "   print('有及格ㄡ~')\n",
        "else:\n",
        "   print('不及格ㄟ!')"
      ],
      "execution_count": 7,
      "outputs": [
        {
          "output_type": "stream",
          "text": [
            "請輸入一個成績?50\n",
            "不及格ㄟ!\n"
          ],
          "name": "stdout"
        }
      ]
    },
    {
      "cell_type": "code",
      "metadata": {
        "id": "-XcMKE6ye7e0",
        "colab_type": "code",
        "colab": {
          "base_uri": "https://localhost:8080/",
          "height": 51
        },
        "outputId": "d4a0e87e-bc1d-4067-8690-74b4637c827b"
      },
      "source": [
        "score = int(input('請輸入一個成績?'))\n",
        "if score >= 60:\n",
        "   print('有及格ㄡ~')\n",
        "else:\n",
        "   print('不及格ㄟ!')"
      ],
      "execution_count": 8,
      "outputs": [
        {
          "output_type": "stream",
          "text": [
            "請輸入一個成績?66\n",
            "有及格ㄡ~\n"
          ],
          "name": "stdout"
        }
      ]
    },
    {
      "cell_type": "code",
      "metadata": {
        "id": "8kTC8w7SfIXm",
        "colab_type": "code",
        "colab": {
          "base_uri": "https://localhost:8080/",
          "height": 68
        },
        "outputId": "3ed0dd16-e459-41c6-8d6b-b89be3d79d43"
      },
      "source": [
        "x = float(input('請輸入該點的X座標?'))\n",
        "y = float(input('請輸入該點的Y座標?'))\n",
        "\n",
        "if (x > 0):\n",
        "  if (y > 0):\n",
        "    print('該點在第一象限') \n",
        "  else:\n",
        "    print('該點在第四象限') \n",
        "else:\n",
        "  if (y > 0):\n",
        "    print('該點在第二象限') \n",
        "  else:\n",
        "    print('該點在第三象限') "
      ],
      "execution_count": 24,
      "outputs": [
        {
          "output_type": "stream",
          "text": [
            "請輸入該點的X座標?1\n",
            "請輸入該點的Y座標?1\n",
            "該點在第一象限\n"
          ],
          "name": "stdout"
        }
      ]
    },
    {
      "cell_type": "code",
      "metadata": {
        "id": "kiAQwvyljTMS",
        "colab_type": "code",
        "colab": {
          "base_uri": "https://localhost:8080/",
          "height": 51
        },
        "outputId": "a14dcef2-484f-481a-9e80-3892a3c818f9"
      },
      "source": [
        "cost = int(input('請輸入購買金額?'))\n",
        "if cost >= 2000:\n",
        " print(cost * 0.9)\n",
        "else:\n",
        " print(cost)"
      ],
      "execution_count": 25,
      "outputs": [
        {
          "output_type": "stream",
          "text": [
            "請輸入購買金額?2000\n",
            "1800.0\n"
          ],
          "name": "stdout"
        }
      ]
    },
    {
      "cell_type": "code",
      "metadata": {
        "id": "D1wM5pg0mWJZ",
        "colab_type": "code",
        "colab": {
          "base_uri": "https://localhost:8080/",
          "height": 51
        },
        "outputId": "17cf647e-12de-4fda-85c5-8645b9611261"
      },
      "source": [
        "num = int(input('請輸入一個整數?'))\n",
        "if num % 2 == 0: #餘數為0是偶數\n",
        " print(num, '為偶數')\n",
        "else:\n",
        " print(num, '為奇數')"
      ],
      "execution_count": 26,
      "outputs": [
        {
          "output_type": "stream",
          "text": [
            "請輸入一個整數?13\n",
            "13 為奇數\n"
          ],
          "name": "stdout"
        }
      ]
    },
    {
      "cell_type": "code",
      "metadata": {
        "id": "kvtEu3IJmp7q",
        "colab_type": "code",
        "colab": {}
      },
      "source": [
        ""
      ],
      "execution_count": 0,
      "outputs": []
    }
  ]
}