{
  "nbformat": 4,
  "nbformat_minor": 0,
  "metadata": {
    "colab": {
      "name": "week16 A108260061 高暐軒",
      "provenance": [],
      "include_colab_link": true
    },
    "kernelspec": {
      "name": "python3",
      "display_name": "Python 3"
    }
  },
  "cells": [
    {
      "cell_type": "markdown",
      "metadata": {
        "id": "view-in-github",
        "colab_type": "text"
      },
      "source": [
        "<a href=\"https://colab.research.google.com/github/kaoharrison/Introduction-to-Data-Science/blob/master/week16_A108260061_%E9%AB%98%E6%9A%90%E8%BB%92.ipynb\" target=\"_parent\"><img src=\"https://colab.research.google.com/assets/colab-badge.svg\" alt=\"Open In Colab\"/></a>"
      ]
    },
    {
      "cell_type": "code",
      "metadata": {
        "id": "pGIPhME8rOMq",
        "colab_type": "code",
        "colab": {
          "base_uri": "https://localhost:8080/",
          "height": 68
        },
        "outputId": "ac533e18-195b-4512-f9d8-8290221aca5c"
      },
      "source": [
        "i = 1\n",
        "while (i < 6):\n",
        "    print(i)\n",
        "    if i == 3:\n",
        "       break\n",
        "    i += 1"
      ],
      "execution_count": 1,
      "outputs": [
        {
          "output_type": "stream",
          "text": [
            "1\n",
            "2\n",
            "3\n"
          ],
          "name": "stdout"
        }
      ]
    },
    {
      "cell_type": "code",
      "metadata": {
        "id": "4fWWPhKjt7p7",
        "colab_type": "code",
        "colab": {
          "base_uri": "https://localhost:8080/",
          "height": 85
        },
        "outputId": "85c7dff3-e4e7-44d0-adf8-23a67a64cf8e"
      },
      "source": [
        "i = 0\n",
        "while (i < 5):\n",
        "    i += 1\n",
        "    if i == 3:\n",
        "       continue\n",
        "    print(i)"
      ],
      "execution_count": 2,
      "outputs": [
        {
          "output_type": "stream",
          "text": [
            "1\n",
            "2\n",
            "4\n",
            "5\n"
          ],
          "name": "stdout"
        }
      ]
    },
    {
      "cell_type": "code",
      "metadata": {
        "id": "hLb48HICuFWY",
        "colab_type": "code",
        "colab": {
          "base_uri": "https://localhost:8080/",
          "height": 51
        },
        "outputId": "0cf33099-6747-44bd-f47c-db38d0e276cb"
      },
      "source": [
        "answer = 'b246'\n",
        "\n",
        "while True:\n",
        "    password = input('Enter your password? ')\n",
        "    if password == answer:\n",
        "        print('ENTER YOUR SYSTEM')\n",
        "        break\n",
        "    else:\n",
        "         print('Try Again')    "
      ],
      "execution_count": 4,
      "outputs": [
        {
          "output_type": "stream",
          "text": [
            "Enter your password? b246\n",
            "ENTER YOUR SYSTEM\n"
          ],
          "name": "stdout"
        }
      ]
    },
    {
      "cell_type": "code",
      "metadata": {
        "id": "OhBEdaZZw6om",
        "colab_type": "code",
        "colab": {
          "base_uri": "https://localhost:8080/",
          "height": 119
        },
        "outputId": "10d4542b-d907-4fc3-a85b-673bb0517b45"
      },
      "source": [
        "password = \"a123456\"\n",
        "times = 0\n",
        "\n",
        "while times <= 3:\n",
        "    answer = input(\"Enter Your Password: \")\n",
        "    if answer == password: \n",
        "        print(\"登入成功\")\n",
        "        break \n",
        "    else:\n",
        "        times = times + 1\n",
        "        chance = 3 - times\n",
        "        print(\"密碼錯誤！還有\", chance, \"次機會\")"
      ],
      "execution_count": 5,
      "outputs": [
        {
          "output_type": "stream",
          "text": [
            "Enter Your Password: thf\n",
            "密碼錯誤！還有 2 次機會\n",
            "Enter Your Password: yfikl\n",
            "密碼錯誤！還有 1 次機會\n",
            "Enter Your Password: a123456\n",
            "登入成功\n"
          ],
          "name": "stdout"
        }
      ]
    },
    {
      "cell_type": "code",
      "metadata": {
        "id": "EtlYyjq9z8Dw",
        "colab_type": "code",
        "colab": {}
      },
      "source": [
        ""
      ],
      "execution_count": 0,
      "outputs": []
    }
  ]
}