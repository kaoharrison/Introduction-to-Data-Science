{
  "nbformat": 4,
  "nbformat_minor": 0,
  "metadata": {
    "colab": {
      "name": "week16 A108260061 高暐軒",
      "provenance": [],
      "include_colab_link": true
    },
    "kernelspec": {
      "name": "python3",
      "display_name": "Python 3"
    }
  },
  "cells": [
    {
      "cell_type": "markdown",
      "metadata": {
        "id": "view-in-github",
        "colab_type": "text"
      },
      "source": [
        "<a href=\"https://colab.research.google.com/github/kaoharrison/Introduction-to-Data-Science/blob/master/week16_A108260061_%E9%AB%98%E6%9A%90%E8%BB%92.ipynb\" target=\"_parent\"><img src=\"https://colab.research.google.com/assets/colab-badge.svg\" alt=\"Open In Colab\"/></a>"
      ]
    },
    {
      "cell_type": "code",
      "metadata": {
        "id": "pGIPhME8rOMq",
        "colab_type": "code",
        "colab": {
          "base_uri": "https://localhost:8080/",
          "height": 68
        },
        "outputId": "ac533e18-195b-4512-f9d8-8290221aca5c"
      },
      "source": [
        "i = 1\n",
        "while (i < 6):\n",
        "    print(i)\n",
        "    if i == 3:\n",
        "       break\n",
        "    i += 1"
      ],
      "execution_count": 1,
      "outputs": [
        {
          "output_type": "stream",
          "text": [
            "1\n",
            "2\n",
            "3\n"
          ],
          "name": "stdout"
        }
      ]
    },
    {
      "cell_type": "code",
      "metadata": {
        "id": "4fWWPhKjt7p7",
        "colab_type": "code",
        "colab": {
          "base_uri": "https://localhost:8080/",
          "height": 85
        },
        "outputId": "85c7dff3-e4e7-44d0-adf8-23a67a64cf8e"
      },
      "source": [
        "i = 0\n",
        "while (i < 5):\n",
        "    i += 1\n",
        "    if i == 3:\n",
        "       continue\n",
        "    print(i)"
      ],
      "execution_count": 2,
      "outputs": [
        {
          "output_type": "stream",
          "text": [
            "1\n",
            "2\n",
            "4\n",
            "5\n"
          ],
          "name": "stdout"
        }
      ]
    },
    {
      "cell_type": "code",
      "metadata": {
        "id": "hLb48HICuFWY",
        "colab_type": "code",
        "colab": {
          "base_uri": "https://localhost:8080/",
          "height": 51
        },
        "outputId": "0cf33099-6747-44bd-f47c-db38d0e276cb"
      },
      "source": [
        "answer = 'b246'\n",
        "\n",
        "while True:\n",
        "    password = input('Enter your password? ')\n",
        "    if password == answer:\n",
        "        print('ENTER YOUR SYSTEM')\n",
        "        break\n",
        "    else:\n",
        "         print('Try Again')    "
      ],
      "execution_count": 4,
      "outputs": [
        {
          "output_type": "stream",
          "text": [
            "Enter your password? b246\n",
            "ENTER YOUR SYSTEM\n"
          ],
          "name": "stdout"
        }
      ]
    },
    {
      "cell_type": "code",
      "metadata": {
        "id": "OhBEdaZZw6om",
        "colab_type": "code",
        "colab": {
          "base_uri": "https://localhost:8080/",
          "height": 119
        },
        "outputId": "10d4542b-d907-4fc3-a85b-673bb0517b45"
      },
      "source": [
        "password = \"a123456\"\n",
        "times = 0\n",
        "\n",
        "while times <= 3:\n",
        "    answer = input(\"Enter Your Password: \")\n",
        "    if answer == password: \n",
        "        print(\"登入成功\")\n",
        "        break \n",
        "    else:\n",
        "        times = times + 1\n",
        "        chance = 3 - times\n",
        "        print(\"密碼錯誤！還有\", chance, \"次機會\")"
      ],
      "execution_count": 5,
      "outputs": [
        {
          "output_type": "stream",
          "text": [
            "Enter Your Password: thf\n",
            "密碼錯誤！還有 2 次機會\n",
            "Enter Your Password: yfikl\n",
            "密碼錯誤！還有 1 次機會\n",
            "Enter Your Password: a123456\n",
            "登入成功\n"
          ],
          "name": "stdout"
        }
      ]
    },
    {
      "cell_type": "code",
      "metadata": {
        "id": "EtlYyjq9z8Dw",
        "colab_type": "code",
        "colab": {
          "base_uri": "https://localhost:8080/",
          "height": 1000
        },
        "outputId": "6e0c5697-29b5-4bed-c884-2f70f2c427a9"
      },
      "source": [
        "for i in range(5):\n",
        "    print(i)\n",
        "\n",
        "for i in range(3):\n",
        "    print(\"hi\")\n",
        "\n",
        "import random\n",
        "for i in range(10):\n",
        "    r = random.randint(1,100)\n",
        "    print(r)\n",
        "\n",
        "for i in range(100):\n",
        "    r = random.randint(1,1000)\n",
        "    print(\"第\", i, \"個隨機變數的值是\", r)\n",
        "\n",
        "t = 0\n",
        "for i in range(100):\n",
        "    t += 50\n",
        "    print(\"第\", i, \"個數是\", t )"
      ],
      "execution_count": 6,
      "outputs": [
        {
          "output_type": "stream",
          "text": [
            "0\n",
            "1\n",
            "2\n",
            "3\n",
            "4\n",
            "hi\n",
            "hi\n",
            "hi\n",
            "3\n",
            "77\n",
            "36\n",
            "74\n",
            "52\n",
            "81\n",
            "94\n",
            "52\n",
            "92\n",
            "32\n",
            "第 0 個隨機變數的值是 317\n",
            "第 1 個隨機變數的值是 384\n",
            "第 2 個隨機變數的值是 266\n",
            "第 3 個隨機變數的值是 721\n",
            "第 4 個隨機變數的值是 731\n",
            "第 5 個隨機變數的值是 3\n",
            "第 6 個隨機變數的值是 999\n",
            "第 7 個隨機變數的值是 445\n",
            "第 8 個隨機變數的值是 222\n",
            "第 9 個隨機變數的值是 931\n",
            "第 10 個隨機變數的值是 454\n",
            "第 11 個隨機變數的值是 150\n",
            "第 12 個隨機變數的值是 541\n",
            "第 13 個隨機變數的值是 9\n",
            "第 14 個隨機變數的值是 311\n",
            "第 15 個隨機變數的值是 290\n",
            "第 16 個隨機變數的值是 763\n",
            "第 17 個隨機變數的值是 73\n",
            "第 18 個隨機變數的值是 184\n",
            "第 19 個隨機變數的值是 919\n",
            "第 20 個隨機變數的值是 51\n",
            "第 21 個隨機變數的值是 70\n",
            "第 22 個隨機變數的值是 949\n",
            "第 23 個隨機變數的值是 138\n",
            "第 24 個隨機變數的值是 480\n",
            "第 25 個隨機變數的值是 11\n",
            "第 26 個隨機變數的值是 178\n",
            "第 27 個隨機變數的值是 491\n",
            "第 28 個隨機變數的值是 93\n",
            "第 29 個隨機變數的值是 849\n",
            "第 30 個隨機變數的值是 834\n",
            "第 31 個隨機變數的值是 309\n",
            "第 32 個隨機變數的值是 681\n",
            "第 33 個隨機變數的值是 812\n",
            "第 34 個隨機變數的值是 320\n",
            "第 35 個隨機變數的值是 485\n",
            "第 36 個隨機變數的值是 676\n",
            "第 37 個隨機變數的值是 138\n",
            "第 38 個隨機變數的值是 945\n",
            "第 39 個隨機變數的值是 991\n",
            "第 40 個隨機變數的值是 909\n",
            "第 41 個隨機變數的值是 138\n",
            "第 42 個隨機變數的值是 891\n",
            "第 43 個隨機變數的值是 679\n",
            "第 44 個隨機變數的值是 12\n",
            "第 45 個隨機變數的值是 176\n",
            "第 46 個隨機變數的值是 254\n",
            "第 47 個隨機變數的值是 170\n",
            "第 48 個隨機變數的值是 287\n",
            "第 49 個隨機變數的值是 318\n",
            "第 50 個隨機變數的值是 787\n",
            "第 51 個隨機變數的值是 985\n",
            "第 52 個隨機變數的值是 805\n",
            "第 53 個隨機變數的值是 540\n",
            "第 54 個隨機變數的值是 775\n",
            "第 55 個隨機變數的值是 960\n",
            "第 56 個隨機變數的值是 977\n",
            "第 57 個隨機變數的值是 776\n",
            "第 58 個隨機變數的值是 506\n",
            "第 59 個隨機變數的值是 504\n",
            "第 60 個隨機變數的值是 613\n",
            "第 61 個隨機變數的值是 142\n",
            "第 62 個隨機變數的值是 320\n",
            "第 63 個隨機變數的值是 608\n",
            "第 64 個隨機變數的值是 422\n",
            "第 65 個隨機變數的值是 315\n",
            "第 66 個隨機變數的值是 504\n",
            "第 67 個隨機變數的值是 469\n",
            "第 68 個隨機變數的值是 155\n",
            "第 69 個隨機變數的值是 224\n",
            "第 70 個隨機變數的值是 197\n",
            "第 71 個隨機變數的值是 104\n",
            "第 72 個隨機變數的值是 365\n",
            "第 73 個隨機變數的值是 130\n",
            "第 74 個隨機變數的值是 92\n",
            "第 75 個隨機變數的值是 467\n",
            "第 76 個隨機變數的值是 808\n",
            "第 77 個隨機變數的值是 788\n",
            "第 78 個隨機變數的值是 691\n",
            "第 79 個隨機變數的值是 926\n",
            "第 80 個隨機變數的值是 391\n",
            "第 81 個隨機變數的值是 356\n",
            "第 82 個隨機變數的值是 343\n",
            "第 83 個隨機變數的值是 9\n",
            "第 84 個隨機變數的值是 301\n",
            "第 85 個隨機變數的值是 873\n",
            "第 86 個隨機變數的值是 753\n",
            "第 87 個隨機變數的值是 376\n",
            "第 88 個隨機變數的值是 345\n",
            "第 89 個隨機變數的值是 249\n",
            "第 90 個隨機變數的值是 377\n",
            "第 91 個隨機變數的值是 215\n",
            "第 92 個隨機變數的值是 729\n",
            "第 93 個隨機變數的值是 333\n",
            "第 94 個隨機變數的值是 153\n",
            "第 95 個隨機變數的值是 595\n",
            "第 96 個隨機變數的值是 91\n",
            "第 97 個隨機變數的值是 930\n",
            "第 98 個隨機變數的值是 588\n",
            "第 99 個隨機變數的值是 770\n",
            "第 0 個數是 50\n",
            "第 1 個數是 100\n",
            "第 2 個數是 150\n",
            "第 3 個數是 200\n",
            "第 4 個數是 250\n",
            "第 5 個數是 300\n",
            "第 6 個數是 350\n",
            "第 7 個數是 400\n",
            "第 8 個數是 450\n",
            "第 9 個數是 500\n",
            "第 10 個數是 550\n",
            "第 11 個數是 600\n",
            "第 12 個數是 650\n",
            "第 13 個數是 700\n",
            "第 14 個數是 750\n",
            "第 15 個數是 800\n",
            "第 16 個數是 850\n",
            "第 17 個數是 900\n",
            "第 18 個數是 950\n",
            "第 19 個數是 1000\n",
            "第 20 個數是 1050\n",
            "第 21 個數是 1100\n",
            "第 22 個數是 1150\n",
            "第 23 個數是 1200\n",
            "第 24 個數是 1250\n",
            "第 25 個數是 1300\n",
            "第 26 個數是 1350\n",
            "第 27 個數是 1400\n",
            "第 28 個數是 1450\n",
            "第 29 個數是 1500\n",
            "第 30 個數是 1550\n",
            "第 31 個數是 1600\n",
            "第 32 個數是 1650\n",
            "第 33 個數是 1700\n",
            "第 34 個數是 1750\n",
            "第 35 個數是 1800\n",
            "第 36 個數是 1850\n",
            "第 37 個數是 1900\n",
            "第 38 個數是 1950\n",
            "第 39 個數是 2000\n",
            "第 40 個數是 2050\n",
            "第 41 個數是 2100\n",
            "第 42 個數是 2150\n",
            "第 43 個數是 2200\n",
            "第 44 個數是 2250\n",
            "第 45 個數是 2300\n",
            "第 46 個數是 2350\n",
            "第 47 個數是 2400\n",
            "第 48 個數是 2450\n",
            "第 49 個數是 2500\n",
            "第 50 個數是 2550\n",
            "第 51 個數是 2600\n",
            "第 52 個數是 2650\n",
            "第 53 個數是 2700\n",
            "第 54 個數是 2750\n",
            "第 55 個數是 2800\n",
            "第 56 個數是 2850\n",
            "第 57 個數是 2900\n",
            "第 58 個數是 2950\n",
            "第 59 個數是 3000\n",
            "第 60 個數是 3050\n",
            "第 61 個數是 3100\n",
            "第 62 個數是 3150\n",
            "第 63 個數是 3200\n",
            "第 64 個數是 3250\n",
            "第 65 個數是 3300\n",
            "第 66 個數是 3350\n",
            "第 67 個數是 3400\n",
            "第 68 個數是 3450\n",
            "第 69 個數是 3500\n",
            "第 70 個數是 3550\n",
            "第 71 個數是 3600\n",
            "第 72 個數是 3650\n",
            "第 73 個數是 3700\n",
            "第 74 個數是 3750\n",
            "第 75 個數是 3800\n",
            "第 76 個數是 3850\n",
            "第 77 個數是 3900\n",
            "第 78 個數是 3950\n",
            "第 79 個數是 4000\n",
            "第 80 個數是 4050\n",
            "第 81 個數是 4100\n",
            "第 82 個數是 4150\n",
            "第 83 個數是 4200\n",
            "第 84 個數是 4250\n",
            "第 85 個數是 4300\n",
            "第 86 個數是 4350\n",
            "第 87 個數是 4400\n",
            "第 88 個數是 4450\n",
            "第 89 個數是 4500\n",
            "第 90 個數是 4550\n",
            "第 91 個數是 4600\n",
            "第 92 個數是 4650\n",
            "第 93 個數是 4700\n",
            "第 94 個數是 4750\n",
            "第 95 個數是 4800\n",
            "第 96 個數是 4850\n",
            "第 97 個數是 4900\n",
            "第 98 個數是 4950\n",
            "第 99 個數是 5000\n"
          ],
          "name": "stdout"
        }
      ]
    },
    {
      "cell_type": "code",
      "metadata": {
        "id": "359OocPu3-gu",
        "colab_type": "code",
        "colab": {
          "base_uri": "https://localhost:8080/",
          "height": 34
        },
        "outputId": "23aa2ec2-906b-48d6-eb5d-5d214c27c9d3"
      },
      "source": [
        "range(5)"
      ],
      "execution_count": 11,
      "outputs": [
        {
          "output_type": "execute_result",
          "data": {
            "text/plain": [
              "range(0, 5)"
            ]
          },
          "metadata": {
            "tags": []
          },
          "execution_count": 11
        }
      ]
    },
    {
      "cell_type": "code",
      "metadata": {
        "id": "aIW74UHG4trW",
        "colab_type": "code",
        "colab": {
          "base_uri": "https://localhost:8080/",
          "height": 187
        },
        "outputId": "a7e6a5ca-1ba3-4ebd-a2c6-97ce9834401b"
      },
      "source": [
        "start = int(input('請輸入加總開始值?'))\n",
        "enter = int(input('請輸入加總終止值?'))\n",
        "step = int(input('請輸入遞增減值?'))\n",
        "\n",
        "sum = 0 #初始結果\n",
        "\n",
        "for i in range(s, e, inc): #判斷條件\n",
        "\n",
        "    sum = sum + i #更新結果\n",
        "    print('i為', i, '加總結果為', sum)"
      ],
      "execution_count": 13,
      "outputs": [
        {
          "output_type": "stream",
          "text": [
            "請輸入加總開始值?2\n",
            "請輸入加總終止值?23\n",
            "請輸入遞增減值?3\n",
            "i為 2 加總結果為 2\n",
            "i為 5 加總結果為 7\n",
            "i為 8 加總結果為 15\n",
            "i為 11 加總結果為 26\n",
            "i為 14 加總結果為 40\n",
            "i為 17 加總結果為 57\n",
            "i為 20 加總結果為 77\n"
          ],
          "name": "stdout"
        }
      ]
    },
    {
      "cell_type": "code",
      "metadata": {
        "id": "EC6fA_uY6XxA",
        "colab_type": "code",
        "colab": {}
      },
      "source": [
        ""
      ],
      "execution_count": 0,
      "outputs": []
    }
  ]
}